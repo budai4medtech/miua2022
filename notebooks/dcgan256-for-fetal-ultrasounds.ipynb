{
 "cells": [
  {
   "cell_type": "markdown",
   "metadata": {},
   "source": [
    "# DCGAN256 for fetal head ultrasound images\n",
    "\n",
    "**Author(s)**: Thea Bautista [@theabautista](https://github.com/theabautista)     \n",
    "**Contributor(s)**:  Miguel Xochicale [@mxochicale](https://github.com/mxochicale)     \n",
    "\n",
    "May2022\n",
    "\n",
    "\n",
    "## Summary\n",
    "This notebook presents a learning pipeline to classify 4 chamber view from echocardiography datasets.\n",
    "\n",
    "### How to run the notebook\n",
    "\n",
    "1. Go to the repository path: `cd $HOME/repositories/xfetus/miua2022`\n",
    "2. Open repo in pycharm and in the terminal type:\n",
    "    ```\n",
    "    git checkout master # or the branch\n",
    "    git pull # to bring a local branch up-to-date with its remote version\n",
    "    ```\n",
    "3. Launch Notebook server  \n",
    "    Go to notebooks path: `cd $HOME/repositories/xfetus/miua2022/notebooks` and type in the pycharm terminal:\n",
    "    ```\n",
    "    conda activate susiE \n",
    "    jupyter notebook\n",
    "    ```\n",
    "    which will open your web-browser.\n",
    "    \n",
    "    \n",
    "### References\n",
    "* \"Proposed Regulatory Framework for Modifications to Artificial Intelligence/Machine Learning (AI/ML)-Based Software as a Medical Device (SaMD) - Discussion Paper and Request for Feedback\". https://www.fda.gov/media/122535/download "
   ]
  },
  {
   "cell_type": "code",
   "execution_count": null,
   "metadata": {
    "execution": {
     "iopub.execute_input": "2022-02-07T22:31:28.779833Z",
     "iopub.status.busy": "2022-02-07T22:31:28.779512Z",
     "iopub.status.idle": "2022-02-07T22:31:30.442599Z",
     "shell.execute_reply": "2022-02-07T22:31:30.441891Z",
     "shell.execute_reply.started": "2022-02-07T22:31:28.779749Z"
    },
    "executionInfo": {
     "elapsed": 1110,
     "status": "ok",
     "timestamp": 1643670512813,
     "user": {
      "displayName": "Thea Bautista",
      "photoUrl": "https://lh3.googleusercontent.com/a/default-user=s64",
      "userId": "08538917217689393675"
     },
     "user_tz": 0
    },
    "id": "xolBijP6vnaS"
   },
   "outputs": [],
   "source": [
    "import torch\n",
    "from torchvision import transforms, datasets\n",
    "import torch.nn as nn\n",
    "from torch import optim as optim\n",
    "import numpy as np\n",
    "import torchvision.utils as vutils"
   ]
  },
  {
   "cell_type": "code",
   "execution_count": null,
   "metadata": {
    "execution": {
     "iopub.execute_input": "2022-02-07T22:31:30.445384Z",
     "iopub.status.busy": "2022-02-07T22:31:30.444351Z",
     "iopub.status.idle": "2022-02-07T22:31:30.497121Z",
     "shell.execute_reply": "2022-02-07T22:31:30.496204Z",
     "shell.execute_reply.started": "2022-02-07T22:31:30.445342Z"
    },
    "executionInfo": {
     "elapsed": 11,
     "status": "ok",
     "timestamp": 1643670512814,
     "user": {
      "displayName": "Thea Bautista",
      "photoUrl": "https://lh3.googleusercontent.com/a/default-user=s64",
      "userId": "08538917217689393675"
     },
     "user_tz": 0
    },
    "id": "k7vV0kesvpAY",
    "outputId": "e93f1787-28d2-4a7f-fe9a-53e0424426c5"
   },
   "outputs": [],
   "source": [
    "device = torch.device(\"cuda\" if torch.cuda.is_available() else \"cpu\")\n",
    "print(device)"
   ]
  },
  {
   "cell_type": "markdown",
   "metadata": {
    "id": "bix-_cJ8v4Y8"
   },
   "source": [
    "## Training Parameters"
   ]
  },
  {
   "cell_type": "code",
   "execution_count": null,
   "metadata": {
    "execution": {
     "iopub.execute_input": "2022-02-07T22:31:30.498789Z",
     "iopub.status.busy": "2022-02-07T22:31:30.498539Z",
     "iopub.status.idle": "2022-02-07T22:31:30.509304Z",
     "shell.execute_reply": "2022-02-07T22:31:30.508378Z",
     "shell.execute_reply.started": "2022-02-07T22:31:30.498754Z"
    },
    "executionInfo": {
     "elapsed": 10,
     "status": "ok",
     "timestamp": 1643670512815,
     "user": {
      "displayName": "Thea Bautista",
      "photoUrl": "https://lh3.googleusercontent.com/a/default-user=s64",
      "userId": "08538917217689393675"
     },
     "user_tz": 0
    },
    "id": "KGbR9qDPv319"
   },
   "outputs": [],
   "source": [
    "training_parameters = {\n",
    "    \"n_epochs\": 100,\n",
    "    \"batch_size\": 10,\n",
    "}\n",
    "\n",
    "# Training image size\n",
    "image_size = 256\n",
    "\n",
    "# Number of channels in image\n",
    "nc = 1\n",
    "\n",
    "# Size of z latent vector (i.e. size of generator input)\n",
    "nz = 256\n",
    "\n",
    "# Size of feature maps in generator\n",
    "ngf = 256\n",
    "\n",
    "# Size of feature maps in discriminator\n",
    "ndf = 256\n",
    "\n",
    "# Number of training epochs\n",
    "num_epochs = 5\n",
    "\n",
    "# Learning rate for optimizers\n",
    "lr = 0.0002\n",
    "\n",
    "# Beta1 hyperparam for Adam optimizers\n",
    "beta1 = 0.5\n",
    "\n",
    "# Number of GPUs available. Use 0 for CPU mode.\n",
    "ngpu = 1\n"
   ]
  },
  {
   "cell_type": "markdown",
   "metadata": {
    "id": "7IC7SH23vq_i"
   },
   "source": [
    "## Load Dataset"
   ]
  },
  {
   "cell_type": "code",
   "execution_count": null,
   "metadata": {
    "execution": {
     "iopub.execute_input": "2022-02-07T22:31:30.51266Z",
     "iopub.status.busy": "2022-02-07T22:31:30.512322Z",
     "iopub.status.idle": "2022-02-07T22:31:30.69803Z",
     "shell.execute_reply": "2022-02-07T22:31:30.697292Z",
     "shell.execute_reply.started": "2022-02-07T22:31:30.512558Z"
    },
    "executionInfo": {
     "elapsed": 10,
     "status": "ok",
     "timestamp": 1643670512815,
     "user": {
      "displayName": "Thea Bautista",
      "photoUrl": "https://lh3.googleusercontent.com/a/default-user=s64",
      "userId": "08538917217689393675"
     },
     "user_tz": 0
    },
    "id": "tBiLXW2Gvvzq"
   },
   "outputs": [],
   "source": [
    "data_path = '../input/fetal-head-ultrasounds-by-tla-van-den-heuvel'\n",
    "\n",
    "train_dataset = datasets.ImageFolder(\n",
    "    root=data_path,\n",
    "    transform=transforms.Compose([transforms.ToTensor(),\n",
    "                                  transforms.Grayscale(), \n",
    "                                  transforms.Normalize((0.5,), (0.5,)), \n",
    "                                  transforms.CenterCrop(500), \n",
    "                                  transforms.Resize((image_size,image_size))])\n",
    "  )\n",
    "\n",
    "subset_size=100\n",
    "train_data_subset = torch.utils.data.Subset(train_dataset, np.random.choice(len(train_dataset), subset_size, replace=False))\n",
    "data_loader = torch.utils.data.DataLoader(\n",
    "    train_data_subset,\n",
    "    batch_size=training_parameters[\"batch_size\"],\n",
    "    shuffle=True\n",
    "  )"
   ]
  },
  {
   "cell_type": "code",
   "execution_count": null,
   "metadata": {
    "execution": {
     "iopub.execute_input": "2022-02-07T22:31:30.701394Z",
     "iopub.status.busy": "2022-02-07T22:31:30.701015Z",
     "iopub.status.idle": "2022-02-07T22:31:30.707616Z",
     "shell.execute_reply": "2022-02-07T22:31:30.7069Z",
     "shell.execute_reply.started": "2022-02-07T22:31:30.701359Z"
    },
    "executionInfo": {
     "elapsed": 10,
     "status": "ok",
     "timestamp": 1643670512816,
     "user": {
      "displayName": "Thea Bautista",
      "photoUrl": "https://lh3.googleusercontent.com/a/default-user=s64",
      "userId": "08538917217689393675"
     },
     "user_tz": 0
    },
    "id": "S8PANaO9v-wm",
    "outputId": "e0424034-61cc-4d7e-8254-b0aea5555fe6"
   },
   "outputs": [],
   "source": [
    "num_batches = len(data_loader)\n",
    "print(\"Number of batches: \",num_batches)"
   ]
  },
  {
   "cell_type": "markdown",
   "metadata": {
    "id": "s2WTGwCIwB3Q"
   },
   "source": [
    "## Display Data"
   ]
  },
  {
   "cell_type": "code",
   "execution_count": null,
   "metadata": {
    "execution": {
     "iopub.execute_input": "2022-02-07T22:31:30.709763Z",
     "iopub.status.busy": "2022-02-07T22:31:30.709386Z",
     "iopub.status.idle": "2022-02-07T22:31:31.372636Z",
     "shell.execute_reply": "2022-02-07T22:31:31.371868Z",
     "shell.execute_reply.started": "2022-02-07T22:31:30.709724Z"
    },
    "executionInfo": {
     "elapsed": 1628,
     "status": "ok",
     "timestamp": 1643670514437,
     "user": {
      "displayName": "Thea Bautista",
      "photoUrl": "https://lh3.googleusercontent.com/a/default-user=s64",
      "userId": "08538917217689393675"
     },
     "user_tz": 0
    },
    "id": "wcs89sZqwEw9",
    "outputId": "0115a3e7-3f07-41a5-ab1a-38e8668d6826"
   },
   "outputs": [],
   "source": [
    "%matplotlib inline \n",
    "from matplotlib import pyplot as plt\n",
    "\n",
    "for x,_ in data_loader:\n",
    "    plt.imshow(x.numpy()[0][0], cmap='gray')\n",
    "    print(x.numpy()[0][0].shape)\n",
    "    print(x.shape)\n",
    "    break"
   ]
  },
  {
   "cell_type": "markdown",
   "metadata": {
    "id": "nYe_s0vh1Qyb"
   },
   "source": [
    "## Weight Initialisation\n",
    "We initialise the weights from a normal distribution with mean=0 and st.dev=0.02."
   ]
  },
  {
   "cell_type": "code",
   "execution_count": null,
   "metadata": {
    "execution": {
     "iopub.execute_input": "2022-02-07T22:31:31.37454Z",
     "iopub.status.busy": "2022-02-07T22:31:31.373833Z",
     "iopub.status.idle": "2022-02-07T22:31:31.380761Z",
     "shell.execute_reply": "2022-02-07T22:31:31.379954Z",
     "shell.execute_reply.started": "2022-02-07T22:31:31.374499Z"
    },
    "executionInfo": {
     "elapsed": 5,
     "status": "ok",
     "timestamp": 1643670514438,
     "user": {
      "displayName": "Thea Bautista",
      "photoUrl": "https://lh3.googleusercontent.com/a/default-user=s64",
      "userId": "08538917217689393675"
     },
     "user_tz": 0
    },
    "id": "1ODKiZst1QVL"
   },
   "outputs": [],
   "source": [
    "def weights_init(model):\n",
    "    classname = model.__class__.__name__\n",
    "    if classname.find('Conv') != -1:\n",
    "        nn.init.normal_(model.weight.data, 0.0, 0.02)\n",
    "    elif classname.find('BatchNorm') != -1:\n",
    "        nn.init.normal_(model.weight.data, 1.0, 0.02)\n",
    "        nn.init.constant_(model.bias.data, 0)"
   ]
  },
  {
   "cell_type": "markdown",
   "metadata": {
    "id": "n7ew9XiRwH6R"
   },
   "source": [
    "## Defining Generator\n",
    "Generator takes a latent vector of size nz and is transformed by hidden layers made up of fractional strided transpose convolutional layers, batch normelisation layers and Relu layers. The final activation for the output is a tanh function.\n",
    "\n",
    "\"using a bounded activation allowed the modelto learn more quickly to saturate and cover the color space of the training distribution.  Within thediscriminator we found the leaky rectified activation to workwell, especially for higher resolution modeling.\""
   ]
  },
  {
   "cell_type": "code",
   "execution_count": null,
   "metadata": {
    "execution": {
     "iopub.execute_input": "2022-02-07T22:32:00.285704Z",
     "iopub.status.busy": "2022-02-07T22:32:00.285128Z",
     "iopub.status.idle": "2022-02-07T22:32:00.297641Z",
     "shell.execute_reply": "2022-02-07T22:32:00.29694Z",
     "shell.execute_reply.started": "2022-02-07T22:32:00.285666Z"
    },
    "executionInfo": {
     "elapsed": 5,
     "status": "ok",
     "timestamp": 1643670514439,
     "user": {
      "displayName": "Thea Bautista",
      "photoUrl": "https://lh3.googleusercontent.com/a/default-user=s64",
      "userId": "08538917217689393675"
     },
     "user_tz": 0
    },
    "id": "_x_yVT7iwGdl"
   },
   "outputs": [],
   "source": [
    "class Generator(nn.Module):\n",
    "    def __init__(self, ngpu):\n",
    "        super(Generator, self).__init__()\n",
    "        self.ngpu = ngpu\n",
    "        self.conv1 = nn.Sequential(\n",
    "            # input is Z, going into a convolution torch.nn.ConvTranspose2d(in_channels, out_channels, kernel_size, stride=1, padding=0)\n",
    "            nn.ConvTranspose2d(nz, ngf * 32, 4, 1, 0, bias=False),\n",
    "            nn.BatchNorm2d(ngf * 32),\n",
    "            nn.ReLU(True)\n",
    "        )\n",
    "        self.conv2 = nn.Sequential(\n",
    "            nn.ConvTranspose2d(ngf * 32, ngf * 16, 4, 2, 1, bias=False),\n",
    "            nn.BatchNorm2d(ngf * 16),\n",
    "            nn.ReLU(True),\n",
    "        )\n",
    "        self.conv3 = nn.Sequential(\n",
    "            nn.ConvTranspose2d( ngf * 16, ngf * 8, 4, 2, 1, bias=False),\n",
    "            nn.BatchNorm2d(ngf * 8),\n",
    "            nn.ReLU(True)\n",
    "        )\n",
    "        self.conv4 = nn.Sequential(\n",
    "            # state size. (ngf*8) x 4 x 4\n",
    "            nn.ConvTranspose2d(ngf * 8, ngf * 4, 4, 2, 1, bias=False),\n",
    "            nn.BatchNorm2d(ngf * 4),\n",
    "            nn.ReLU(True)\n",
    "        )\n",
    "        self.conv5 = nn.Sequential(\n",
    "            # state size. (ngf*4) x 8 x 8\n",
    "            nn.ConvTranspose2d( ngf * 4, ngf * 2, 4, 2, 1, bias=False),\n",
    "            nn.BatchNorm2d(ngf * 2),\n",
    "            nn.ReLU(True)\n",
    "        )\n",
    "        self.conv6 = nn.Sequential(\n",
    "            # state size. (ngf*2) x 16 x 16\n",
    "            nn.ConvTranspose2d( ngf * 2, ngf, 4, 2, 1, bias=False),\n",
    "            nn.BatchNorm2d(ngf),\n",
    "            nn.ReLU(True)\n",
    "        )\n",
    "        self.output = nn.Sequential(\n",
    "            # state size. (ngf) x 32 x 32\n",
    "            nn.ConvTranspose2d( ngf, nc, 4, 2, 1, bias=False),\n",
    "            nn.Tanh()\n",
    "            # state size. (nc) x 64 x 64\n",
    "        )\n",
    "\n",
    "    def forward(self, x):\n",
    "#         print('GENERATOR OUTPUT')\n",
    "        x = self.conv1(x)\n",
    "#         print(x.shape)\n",
    "        x = self.conv2(x)\n",
    "#         print(x.shape)\n",
    "        x = self.conv3(x)\n",
    "#         print(x.shape)\n",
    "        x = self.conv4(x)\n",
    "#         print(x.shape)\n",
    "        x = self.conv5(x)\n",
    "#         print(x.shape)\n",
    "        x = self.conv6(x)\n",
    "#         print(x.shape)\n",
    "        out = self.output(x)\n",
    "#         print(out.shape)\n",
    "        return out"
   ]
  },
  {
   "cell_type": "markdown",
   "metadata": {
    "id": "S5ThonH17cBz"
   },
   "source": [
    "## Defining the discriminator"
   ]
  },
  {
   "cell_type": "code",
   "execution_count": null,
   "metadata": {
    "execution": {
     "iopub.execute_input": "2022-02-07T22:31:31.399829Z",
     "iopub.status.busy": "2022-02-07T22:31:31.39962Z",
     "iopub.status.idle": "2022-02-07T22:31:31.415485Z",
     "shell.execute_reply": "2022-02-07T22:31:31.41448Z",
     "shell.execute_reply.started": "2022-02-07T22:31:31.399798Z"
    },
    "executionInfo": {
     "elapsed": 270,
     "status": "ok",
     "timestamp": 1643670514705,
     "user": {
      "displayName": "Thea Bautista",
      "photoUrl": "https://lh3.googleusercontent.com/a/default-user=s64",
      "userId": "08538917217689393675"
     },
     "user_tz": 0
    },
    "id": "ZudK57pS7gMJ"
   },
   "outputs": [],
   "source": [
    "class Discriminator(nn.Module):\n",
    "    def __init__(self, ngpu):\n",
    "        super(Discriminator, self).__init__()\n",
    "        self.ngpu = ngpu\n",
    "        self.conv1 = nn.Sequential(\n",
    "            # input is (nc) x 256 x 256 (torch.nn.ConvTranspose2d(in_channels, out_channels, kernel_size, stride=1, padding=0))\n",
    "            nn.Conv2d(nc, ndf, 4, 2, 1, bias=False),\n",
    "            nn.LeakyReLU(0.2, inplace=True)\n",
    "        )\n",
    "        self.conv2 = nn.Sequential(\n",
    "            # input is (nc) x 128 x 128\n",
    "            nn.Conv2d(ndf, ndf * 2, 4, stride=2, padding=1, bias=False), \n",
    "            nn.BatchNorm2d(ndf * 2),\n",
    "            nn.LeakyReLU(0.2, inplace=True)\n",
    "        )\n",
    "        self.conv3 = nn.Sequential(\n",
    "            # state size. (ndf) x 64 x 64\n",
    "            nn.Conv2d(ndf * 2, ndf * 4, 4, stride=2, padding=1, bias=False),\n",
    "            nn.BatchNorm2d(ndf * 4),\n",
    "            nn.LeakyReLU(0.2, inplace=True)\n",
    "        )\n",
    "        self.conv4 = nn.Sequential(\n",
    "            # state size. (ndf*2) x 32 x 32\n",
    "            nn.Conv2d(ndf * 4, ndf * 8, 4, stride=2, padding=1, bias=False),\n",
    "            nn.BatchNorm2d(ndf * 8),\n",
    "            nn.LeakyReLU(0.2, inplace=True)\n",
    "        )\n",
    "        self.conv5 = nn.Sequential(\n",
    "            # state size. (ndf*4) x 16 x 16 \n",
    "            nn.Conv2d(ndf * 8, ndf * 16, 4, stride=2, padding=1, bias=False),\n",
    "            nn.BatchNorm2d(ndf * 16),\n",
    "            nn.LeakyReLU(0.2, inplace=True)\n",
    "        )\n",
    "        self.conv6 = nn.Sequential(\n",
    "            # state size. (ndf*8) x 8 x 8\n",
    "            nn.Conv2d(ndf * 16, ndf * 32, 4, stride=2, padding=1, bias=False),\n",
    "            nn.BatchNorm2d(ndf * 32),\n",
    "            nn.LeakyReLU(0.2, inplace=True)\n",
    "        )\n",
    "        self.output = nn.Sequential(\n",
    "            # state size. (ndf*16) x 4 x 4\n",
    "            nn.Conv2d(ndf * 32, 1, 4, stride=1, padding=0, bias=False),\n",
    "            nn.Sigmoid()\n",
    "            # state size. 1\n",
    "        )\n",
    "\n",
    "\n",
    "    def forward(self, x):\n",
    "#       print('DISCRIMINATOR OUTPUT')\n",
    "      x = self.conv1(x)\n",
    "#       print(x.shape)\n",
    "      x = self.conv2(x)\n",
    "#       print(x.shape)\n",
    "      x = self.conv3(x)\n",
    "#       print(x.shape)\n",
    "      x = self.conv4(x)\n",
    "#       print(x.shape)\n",
    "      x = self.conv5(x)\n",
    "#       print(x.shape)\n",
    "      x = self.conv6(x)\n",
    "#       print(x.shape)\n",
    "      out = self.output(x)\n",
    "#       print(out.shape)\n",
    "      return out"
   ]
  },
  {
   "cell_type": "markdown",
   "metadata": {
    "id": "qjjnStkM38JJ"
   },
   "source": [
    "## Initialising Generator and Discriminator"
   ]
  },
  {
   "cell_type": "code",
   "execution_count": null,
   "metadata": {
    "execution": {
     "iopub.execute_input": "2022-02-07T22:31:31.418397Z",
     "iopub.status.busy": "2022-02-07T22:31:31.418084Z",
     "iopub.status.idle": "2022-02-07T22:31:48.559705Z",
     "shell.execute_reply": "2022-02-07T22:31:48.558935Z",
     "shell.execute_reply.started": "2022-02-07T22:31:31.41836Z"
    },
    "executionInfo": {
     "elapsed": 21917,
     "status": "ok",
     "timestamp": 1643670536621,
     "user": {
      "displayName": "Thea Bautista",
      "photoUrl": "https://lh3.googleusercontent.com/a/default-user=s64",
      "userId": "08538917217689393675"
     },
     "user_tz": 0
    },
    "id": "PYjpYZvW37r2",
    "outputId": "df3c8700-3c5a-4e17-c044-1ad701d27137"
   },
   "outputs": [],
   "source": [
    "# Create the generator\n",
    "netG = Generator(ngpu).to(device)\n",
    "netD = Discriminator(ngpu).to(device)\n",
    "\n",
    "# Handle multi-gpu if desired\n",
    "if (device.type == 'cuda') and (ngpu > 1):\n",
    "    netG = nn.DataParallel(netG, list(range(ngpu)))\n",
    "    netD = nn.DataParallel(netD, list(range(ngpu)))\n",
    "\n",
    "# Apply the weights_init function to randomly initialize all weights\n",
    "#  to mean=0, stdev=0.02.\n",
    "netG.apply(weights_init)\n",
    "netD.apply(weights_init)\n",
    "\n",
    "# Print the model\n",
    "print(netG)\n",
    "print(netD)"
   ]
  },
  {
   "cell_type": "markdown",
   "metadata": {
    "id": "r2PRAaSL8B_s"
   },
   "source": [
    "## Initialise loss and optimiser functions"
   ]
  },
  {
   "cell_type": "code",
   "execution_count": null,
   "metadata": {
    "execution": {
     "iopub.execute_input": "2022-02-07T22:31:48.56131Z",
     "iopub.status.busy": "2022-02-07T22:31:48.56103Z",
     "iopub.status.idle": "2022-02-07T22:31:48.567561Z",
     "shell.execute_reply": "2022-02-07T22:31:48.566698Z",
     "shell.execute_reply.started": "2022-02-07T22:31:48.561272Z"
    },
    "executionInfo": {
     "elapsed": 14,
     "status": "ok",
     "timestamp": 1643670536621,
     "user": {
      "displayName": "Thea Bautista",
      "photoUrl": "https://lh3.googleusercontent.com/a/default-user=s64",
      "userId": "08538917217689393675"
     },
     "user_tz": 0
    },
    "id": "Zi1IRcqG7AES"
   },
   "outputs": [],
   "source": [
    "# Initialize BCELoss function\n",
    "criterion = nn.BCELoss()\n",
    "\n",
    "# Create batch of latent vectors that we will use to visualize\n",
    "#  the progression of the generator\n",
    "fixed_noise = torch.randn(256, nz, 1, 1, device=device)\n",
    "\n",
    "# Establish convention for real and fake labels during training\n",
    "real_label = 1.\n",
    "fake_label = 0.\n",
    "\n",
    "# Setup Adam optimizers for both G and D\n",
    "optimizerD = optim.Adam(netD.parameters(), lr=lr, betas=(beta1, 0.999))\n",
    "optimizerG = optim.Adam(netG.parameters(), lr=lr, betas=(beta1, 0.999))"
   ]
  },
  {
   "cell_type": "markdown",
   "metadata": {
    "id": "IA23rSyZ8dd0"
   },
   "source": [
    "## Training"
   ]
  },
  {
   "cell_type": "code",
   "execution_count": null,
   "metadata": {
    "execution": {
     "iopub.execute_input": "2022-02-07T22:31:48.569437Z",
     "iopub.status.busy": "2022-02-07T22:31:48.569158Z",
     "iopub.status.idle": "2022-02-07T22:31:55.329087Z",
     "shell.execute_reply": "2022-02-07T22:31:55.328189Z",
     "shell.execute_reply.started": "2022-02-07T22:31:48.569399Z"
    },
    "executionInfo": {
     "elapsed": 6008,
     "status": "error",
     "timestamp": 1643670542616,
     "user": {
      "displayName": "Thea Bautista",
      "photoUrl": "https://lh3.googleusercontent.com/a/default-user=s64",
      "userId": "08538917217689393675"
     },
     "user_tz": 0
    },
    "id": "L5SRm8QE8e4D",
    "outputId": "11969295-65cc-48ce-f868-3cc68adb73c6"
   },
   "outputs": [],
   "source": [
    "# Training Loop\n",
    "\n",
    "# Lists to keep track of progress\n",
    "img_list = []\n",
    "G_losses = []\n",
    "D_losses = []\n",
    "iters = 0\n",
    "\n",
    "print(\"Starting Training Loop...\")\n",
    "# For each epoch\n",
    "for epoch in range(num_epochs):\n",
    "    # For each batch in the dataloader\n",
    "    print(\"Epoch:\", epoch)\n",
    "    for i, data in enumerate(data_loader, 0):\n",
    "        print(\"Batch: \", i)\n",
    "\n",
    "        ############################\n",
    "        # (1) Update D network: maximize log(D(x)) + log(1 - D(G(z)))\n",
    "        ###########################\n",
    "        ## Train with all-real batch\n",
    "        netD.zero_grad()\n",
    "        # Format batch\n",
    "        real_cpu = data[0].to(device)\n",
    "#         print('data shape: ', real_cpu.shape)\n",
    "        b_size = real_cpu.size(0)\n",
    "#         print('batch size: ',b_size)\n",
    "        label = torch.full((b_size,), real_label, dtype=torch.float, device=device)\n",
    "#         print('label size: ', label.shape)\n",
    "        # Forward pass real batch through D\n",
    "        output = netD(real_cpu).view(-1)\n",
    "#         print('output size: ', output.shape)\n",
    "        # Calculate loss on all-real batch\n",
    "        errD_real = criterion(output, label)\n",
    "        # Calculate gradients for D in backward pass\n",
    "        errD_real.backward()\n",
    "        D_x = output.mean().item()\n",
    "\n",
    "        ## Train with all-fake batch\n",
    "        # Generate batch of latent vectors\n",
    "        noise = torch.randn(b_size, nz, 1, 1, device=device)\n",
    "#         print('noise size: ', noise.shape)\n",
    "        # Generate fake image batch with G\n",
    "        fake = netG(noise)\n",
    "#         print('fake size: ',fake.shape)\n",
    "        label.fill_(fake_label)\n",
    "        # Classify all fake batch with D\n",
    "        output = netD(fake.detach()).view(-1)\n",
    "        # Calculate D's loss on the all-fake batch\n",
    "        errD_fake = criterion(output, label)\n",
    "        # Calculate the gradients for this batch, accumulated (summed) with previous gradients\n",
    "        errD_fake.backward()\n",
    "        D_G_z1 = output.mean().item()\n",
    "        # Compute error of D as sum over the fake and the real batches\n",
    "        errD = errD_real + errD_fake\n",
    "        # Update D\n",
    "        optimizerD.step()\n",
    "\n",
    "        ############################\n",
    "        # (2) Update G network: maximize log(D(G(z)))\n",
    "        ###########################\n",
    "        netG.zero_grad()\n",
    "        label.fill_(real_label)  # fake labels are real for generator cost\n",
    "        # Since we just updated D, perform another forward pass of all-fake batch through D\n",
    "        output = netD(fake).view(-1)\n",
    "        # Calculate G's loss based on this output\n",
    "        errG = criterion(output, label)\n",
    "        # Calculate gradients for G\n",
    "        errG.backward()\n",
    "        D_G_z2 = output.mean().item()\n",
    "        # Update G\n",
    "        optimizerG.step()\n",
    "\n",
    "        # Output training stats\n",
    "        if i % 10 == 0:\n",
    "            print('[%d/%d][%d/%d]\\tLoss_D: %.4f\\tLoss_G: %.4f\\tD(x): %.4f\\tD(G(z)): %.4f / %.4f'\n",
    "                  % (epoch, num_epochs, i, len(data_loader),\n",
    "                     errD.item(), errG.item(), D_x, D_G_z1, D_G_z2))\n",
    "\n",
    "        # Save Losses for plotting later\n",
    "        G_losses.append(errG.item())\n",
    "        D_losses.append(errD.item())\n",
    "\n",
    "        # Check how the generator is doing by saving G's output on fixed_noise\n",
    "        if (iters % 500 == 0) or ((epoch == num_epochs-1) and (i == len(data_loader)-1)):\n",
    "            with torch.no_grad():\n",
    "                fake = netG(fixed_noise).detach().cpu()\n",
    "            img_list.append(vutils.make_grid(fake, padding=2, normalize=True))\n",
    "\n",
    "        iters += 1"
   ]
  },
  {
   "cell_type": "markdown",
   "metadata": {
    "id": "BP0sdgLV8zS5"
   },
   "source": [
    "## Plot loss vs epochs"
   ]
  },
  {
   "cell_type": "code",
   "execution_count": null,
   "metadata": {
    "execution": {
     "iopub.status.busy": "2022-02-07T22:31:55.330536Z",
     "iopub.status.idle": "2022-02-07T22:31:55.33119Z",
     "shell.execute_reply": "2022-02-07T22:31:55.330967Z",
     "shell.execute_reply.started": "2022-02-07T22:31:55.330941Z"
    },
    "executionInfo": {
     "elapsed": 238,
     "status": "aborted",
     "timestamp": 1643670542614,
     "user": {
      "displayName": "Thea Bautista",
      "photoUrl": "https://lh3.googleusercontent.com/a/default-user=s64",
      "userId": "08538917217689393675"
     },
     "user_tz": 0
    },
    "id": "ZB5fvw-Z82mm"
   },
   "outputs": [],
   "source": [
    "plt.figure(figsize=(10,5))\n",
    "plt.title(\"Generator and Discriminator Loss During Training\")\n",
    "plt.plot(G_losses,label=\"G\")\n",
    "plt.plot(D_losses,label=\"D\")\n",
    "plt.xlabel(\"iterations\")\n",
    "plt.ylabel(\"Loss\")\n",
    "plt.legend()\n",
    "plt.show()"
   ]
  }
 ],
 "metadata": {
  "kernelspec": {
   "display_name": "Python 3 (ipykernel)",
   "language": "python",
   "name": "python3"
  },
  "language_info": {
   "codemirror_mode": {
    "name": "ipython",
    "version": 3
   },
   "file_extension": ".py",
   "mimetype": "text/x-python",
   "name": "python",
   "nbconvert_exporter": "python",
   "pygments_lexer": "ipython3",
   "version": "3.10.4"
  }
 },
 "nbformat": 4,
 "nbformat_minor": 4
}
